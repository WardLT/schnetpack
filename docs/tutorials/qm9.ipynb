{
 "cells": [
  {
   "cell_type": "markdown",
   "metadata": {},
   "source": [
    "# Training a neural network on QM9\n",
    "\n",
    "This tutorial will explain how to use SchNetPack for training a model\n",
    "on the QM9 dataset and how the trained model can be used for further.\n",
    "\n",
    "First, we import the necessary modules and create a new directory for the data and our model."
   ]
  },
  {
   "cell_type": "code",
   "execution_count": 1,
   "metadata": {},
   "outputs": [],
   "source": [
    "import os\n",
    "import schnetpack as spk\n",
    "\n",
    "qm9tut = './qm9tut'\n",
    "if not os.path.exists('qm9tut'):\n",
    "    os.makedirs(qm9tut)"
   ]
  },
  {
   "cell_type": "markdown",
   "metadata": {},
   "source": [
    "## Loading the data\n",
    "\n",
    "As explained in the [previous tutorial](preparedata.ipynb), datasets in SchNetPack are loaded with the `AtomsLoader` class or one of the sub-classes that are specialized for common benchmark datasets. \n",
    "The `QM9` dataset class will download and convert the data. We will only use the inner energy at 0K `U0`, so all other properties do not need to be loaded:"
   ]
  },
  {
   "cell_type": "code",
   "execution_count": 2,
   "metadata": {},
   "outputs": [],
   "source": [
    "from schnetpack.datasets import QM9\n",
    "\n",
    "qm9data = QM9('./qm9.db', download=True, load_only=[QM9.U0], remove_uncharacterized=True)"
   ]
  },
  {
   "cell_type": "markdown",
   "metadata": {},
   "source": [
    "### Splitting the data\n",
    "\n",
    "Next, we split the data into training, validation and test set. Here, we choose to use 1000 training examples, 1000 examples for validation and the remaining data as test set.\n",
    "The corresponding indices are stored in the `split.npz` file."
   ]
  },
  {
   "cell_type": "code",
   "execution_count": 3,
   "metadata": {},
   "outputs": [],
   "source": [
    "train, val, test = spk.train_test_split(\n",
    "        data=qm9data,\n",
    "        num_train=1000,\n",
    "        num_val=500,\n",
    "        split_file=os.path.join(qm9tut, \"split.npz\"),\n",
    "    )"
   ]
  },
  {
   "cell_type": "markdown",
   "metadata": {},
   "source": [
    "Next, we will create an `AtomsLoader` for each split. \n",
    "This will take care of shuffling, batching and asynchronously loading the data during training and evaluation."
   ]
  },
  {
   "cell_type": "code",
   "execution_count": 4,
   "metadata": {},
   "outputs": [],
   "source": [
    "train_loader = spk.AtomsLoader(train, batch_size=100, shuffle=True)\n",
    "val_loader = spk.AtomsLoader(val, batch_size=100)"
   ]
  },
  {
   "cell_type": "markdown",
   "metadata": {},
   "source": [
    "### Dataset statistics\n",
    "\n",
    "Before building the model, we need some statistic about our target property for good initial conditions. We will get this from the training examples.\n",
    "For QM9, we also have single-atom reference values stored in the metadata:"
   ]
  },
  {
   "cell_type": "code",
   "execution_count": 5,
   "metadata": {},
   "outputs": [
    {
     "name": "stdout",
     "output_type": "stream",
     "text": [
      "U0 of hyrogen: -13.61 eV\n",
      "U0 of carbon: -1029.86 eV\n",
      "U0 of oxygen: -2042.61 eV\n"
     ]
    }
   ],
   "source": [
    "atomrefs = qm9data.get_atomrefs(QM9.U0)\n",
    "print('U0 of hyrogen:', '{:.2f}'.format(atomrefs[QM9.U0][1][0]), 'eV')\n",
    "print('U0 of carbon:', '{:.2f}'.format(atomrefs[QM9.U0][6][0]), 'eV')\n",
    "print('U0 of oxygen:', '{:.2f}'.format(atomrefs[QM9.U0][8][0]), 'eV')"
   ]
  },
  {
   "cell_type": "markdown",
   "metadata": {},
   "source": [
    "These can be used together with the mean and standard deviation of the energy per atom to initialize the model with a good guess of the energy of a molecule. When calculating these statistics, we pass the atomref to take into account, that the model will add these atomrefs to the predicted energy later, so that this part of the energy does not have to be considered in the statistics, i.e.\n",
    "\\begin{equation}\n",
    "\\mu_{U_0} = \\frac{1}{n_\\text{train}} \\sum_{n=1}^{n_\\text{train}} \\left( U_{0,n} - \\sum_{i=1}^{n_{\\text{atoms},n}} U_{0,Z_{n,i}} \\right)\n",
    "\\end{equation}\n",
    "for the mean and analog for the standard deviation. In this case, this corresponds to the mean and std. dev of the *atomization energy* per atom."
   ]
  },
  {
   "cell_type": "code",
   "execution_count": 6,
   "metadata": {},
   "outputs": [
    {
     "name": "stdout",
     "output_type": "stream",
     "text": [
      "Mean atomization energy / atom: tensor([-4.2497])\n",
      "Std. dev. atomization energy / atom: tensor([0.1967])\n"
     ]
    }
   ],
   "source": [
    "means, stddevs = train_loader.get_statistics(\n",
    "    QM9.U0, get_atomwise_statistics=True, single_atom_ref=atomrefs\n",
    ")\n",
    "print('Mean atomization energy / atom:', means[QM9.U0])\n",
    "print('Std. dev. atomization energy / atom:', stddevs[QM9.U0])"
   ]
  },
  {
   "cell_type": "markdown",
   "metadata": {},
   "source": [
    "## Building the model"
   ]
  },
  {
   "cell_type": "markdown",
   "metadata": {},
   "source": [
    "The next step is to build the neural network model.\n",
    "This consists of 2 parts:\n",
    "\n",
    "1. The representation part which either constructs atom-wise features, e.g. with SchNet, or build a fixed descriptor such as atom-centered symmetry functions.\n",
    "2. One or more output modules for property prediction.\n",
    "\n",
    "We will use a `SchNet` module with 3 interaction layers, a 5 Angstrom cosine cutoff with pairwise distances expanded on 20 Gaussians and 50 atomwise features and convolution filters here, since we only have a few training examples (click [here](../modules/representation.rst#module-schnetpack.representation.schnet) for details on SchNet). Then, we will use one `Atomwise` modules to predict the energy, which takes mean and standard deviation per atom of the property for initialization. Both modules are then combined to an `AtomisticModel`."
   ]
  },
  {
   "cell_type": "code",
   "execution_count": 7,
   "metadata": {},
   "outputs": [],
   "source": [
    "schnet = spk.representation.SchNet(\n",
    "    n_atom_basis=30, n_filters=30, n_gaussians=20, n_interactions=5,\n",
    "    cutoff=4., cutoff_network=spk.nn.cutoff.CosineCutoff\n",
    ")\n",
    "\n",
    "output_U0 = spk.atomistic.Atomwise(n_in=30, atomref=atomrefs[QM9.U0], property=QM9.U0,\n",
    "                                   mean=means[QM9.U0], stddev=stddevs[QM9.U0])\n",
    "model = spk.AtomisticModel(representation=schnet, output_modules=output_U0)"
   ]
  },
  {
   "cell_type": "markdown",
   "metadata": {},
   "source": [
    "## Training the model\n",
    "\n",
    "To train the model, we will use the `Trainer` class that comes with SchNetPack.\n",
    "For this, we need to first define a loss function and select an optimizer.\n",
    "As the loss function, we will use the mean squared error of the energy\n",
    "$\\ell(E_\\text{ref}, E_\\text{pred}) = \\frac{1}{n_\\text{train}} \\sum_{n=1}^{n_\\text{train}} (E_\\text{ref} - E_\\text{pred})^2$\n",
    "\n",
    "This will be minimized using the Adam optimizer from PyTorch."
   ]
  },
  {
   "cell_type": "code",
   "execution_count": 8,
   "metadata": {},
   "outputs": [],
   "source": [
    "from torch.optim import Adam\n",
    "\n",
    "# loss function\n",
    "def mse_loss(batch, result):\n",
    "    diff = batch[QM9.U0]-result[QM9.U0]\n",
    "    err_sq = torch.mean(diff ** 2)\n",
    "    return err_sq\n",
    "\n",
    "# build optimizer\n",
    "optimizer = Adam(model.parameters(), lr=1e-2)"
   ]
  },
  {
   "cell_type": "markdown",
   "metadata": {},
   "source": [
    "We can give the `Trainer` hooks, that are called at certain points during the training loop.\n",
    "This is useful to customize the training process, e.g. with logging, learning rate schedules or stopping criteria.\n",
    "Here, we set up a basis logging as well as a learning rate schedule that reduces the learning rate by factor 0.8 after 5 epochs without improvement of the validation loss.\n",
    "\n",
    "The logger takes a list of validation metrics that specify what is going to be stored.\n",
    "In this example, we want to log the mean absolute and root mean squared error of the $U_0$ energy prediction."
   ]
  },
  {
   "cell_type": "code",
   "execution_count": 9,
   "metadata": {},
   "outputs": [],
   "source": [
    "# before setting up the trainer, remove previous training checkpoints and logs\n",
    "%rm -r ./qm9tut/checkpoints\n",
    "%rm -r ./qm9tut/log.csv\n",
    "\n",
    "import schnetpack.train as trn\n",
    "\n",
    "loss = trn.build_mse_loss([QM9.U0])\n",
    "\n",
    "metrics = [spk.metrics.MeanAbsoluteError(QM9.U0)]\n",
    "hooks = [\n",
    "    trn.CSVHook(log_path=qm9tut, metrics=metrics), \n",
    "    trn.ReduceLROnPlateauHook(\n",
    "        optimizer, \n",
    "        patience=5, factor=0.8, min_lr=1e-6,\n",
    "        stop_after_min=True\n",
    "    )\n",
    "]\n",
    "\n",
    "trainer = trn.Trainer(\n",
    "    model_path=qm9tut,\n",
    "    model=model,\n",
    "    hooks=hooks,\n",
    "    loss_fn=loss,\n",
    "    optimizer=optimizer,\n",
    "    train_loader=train_loader,\n",
    "    validation_loader=val_loader,\n",
    ")"
   ]
  },
  {
   "cell_type": "markdown",
   "metadata": {},
   "source": [
    "We can run the training for a given number of epochs. If we don't give a number, the trainer runs until a stopping criterion is met. For the purpose of this tutorial, we let it train for 200 epochs (on GPU this should take about x minutes)."
   ]
  },
  {
   "cell_type": "code",
   "execution_count": 10,
   "metadata": {},
   "outputs": [],
   "source": [
    "device = \"cuda\" # change to 'cpu' if gpu is not available\n",
    "n_epochs = 300 # takes about 10 min on a notebook GPU. reduces for playing around\n",
    "trainer.train(device=device, n_epochs=n_epochs)"
   ]
  },
  {
   "cell_type": "markdown",
   "metadata": {},
   "source": [
    "You can also call this method several times to continue training. For the training to run until convergence, remove the n_epochs argument or set it to a very large number.\n",
    "\n",
    "Let us finally have a look at the CSV log:"
   ]
  },
  {
   "cell_type": "code",
   "execution_count": 12,
   "metadata": {},
   "outputs": [
    {
     "name": "stdout",
     "output_type": "stream",
     "text": [
      "Final validation MAE: 0.13 eV = 3.09 kcal/mol\n"
     ]
    },
    {
     "data": {
      "image/png": "[encoded data removed]",
      "text/plain": [
       "<Figure size 1008x360 with 2 Axes>"
      ]
     },
     "metadata": {
      "needs_background": "light"
     },
     "output_type": "display_data"
    }
   ],
   "source": [
    "import numpy as np\n",
    "import matplotlib.pyplot as plt\n",
    "from ase.units import kcal, mol\n",
    "\n",
    "results = np.loadtxt(os.path.join(qm9tut, 'log.csv'), skiprows=1, delimiter=',')\n",
    "\n",
    "time = results[:,0]-results[0,0]\n",
    "learning_rate = results[:,1]\n",
    "train_loss = results[:,2]\n",
    "val_loss = results[:,3]\n",
    "val_mae = results[:,4]\n",
    "\n",
    "print('Final validation MAE:', np.round(val_mae[-1], 2), 'eV =',\n",
    "      np.round(val_mae[-1] / (kcal/mol), 2), 'kcal/mol')\n",
    "\n",
    "plt.figure(figsize=(14,5))\n",
    "plt.subplot(1,2,1)\n",
    "plt.plot(time, val_loss, label='Validation')\n",
    "plt.plot(time, train_loss, label='Train')\n",
    "plt.yscale('log')\n",
    "plt.ylabel('Loss [eV]')\n",
    "plt.xlabel('Time [s]')\n",
    "plt.legend()\n",
    "plt.subplot(1,2,2)\n",
    "plt.plot(time, val_mae)\n",
    "plt.ylabel('mean abs. error [eV]')\n",
    "plt.xlabel('Time [s]')\n",
    "plt.show()"
   ]
  },
  {
   "cell_type": "markdown",
   "metadata": {},
   "source": [
    "Of course, the prediction can be improved by letting the training run longer, increasing the patience, the number of neurons and interactions or using regularization techniques."
   ]
  },
  {
   "cell_type": "markdown",
   "metadata": {},
   "source": [
    "## Using the model\n",
    "\n",
    "Having trained a model for QM9, we are going to use it to obtain some predictions.\n",
    "First, we need to load the model. The `Trainer` stores the best model in the model directory which can be loaded using PyTorch:"
   ]
  },
  {
   "cell_type": "code",
   "execution_count": 13,
   "metadata": {},
   "outputs": [],
   "source": [
    "import torch\n",
    "best_model = torch.load(os.path.join(qm9tut, 'best_model'))"
   ]
  },
  {
   "cell_type": "markdown",
   "metadata": {},
   "source": [
    "To evaluate it on the test data, we create a data loader for the test split:"
   ]
  },
  {
   "cell_type": "code",
   "execution_count": 14,
   "metadata": {},
   "outputs": [
    {
     "name": "stdout",
     "output_type": "stream",
     "text": [
      "1328\n",
      "Test MAE 0.16 eV = 3.73 kcal/mol\n"
     ]
    }
   ],
   "source": [
    "test_loader = spk.AtomsLoader(test, batch_size=100)\n",
    "\n",
    "err = 0\n",
    "print(len(test_loader))\n",
    "for count, batch in enumerate(test_loader):    \n",
    "    # move batch to GPU, if necessary\n",
    "    batch = {k: v.to(device) for k, v in batch.items()}\n",
    "    \n",
    "    # apply model\n",
    "    pred = best_model(batch)\n",
    "    \n",
    "    # calculate absolute error\n",
    "    tmp = torch.sum(torch.abs(pred[QM9.U0]-batch[QM9.U0]))\n",
    "    tmp = tmp.detach().cpu().numpy() # detach from graph & convert to numpy\n",
    "    err += tmp\n",
    "    \n",
    "    # log progress\n",
    "    percent = '{:3.2f}'.format(count/len(test_loader)*100)\n",
    "    print('Progress:', percent+'%'+' '*(5-len(percent)), end=\"\\r\")\n",
    "    \n",
    "err /= len(test)\n",
    "print('Test MAE', np.round(err, 2), 'eV =',\n",
    "      np.round(err / (kcal/mol), 2), 'kcal/mol')"
   ]
  },
  {
   "cell_type": "markdown",
   "metadata": {},
   "source": [
    "If your data is not already in SchNetPack format, a more convenient way is to use ASE atoms objects with the provided `AtomsConverter`."
   ]
  },
  {
   "cell_type": "code",
   "execution_count": 15,
   "metadata": {},
   "outputs": [
    {
     "name": "stdout",
     "output_type": "stream",
     "text": [
      "Keys: ['_atomic_numbers', '_positions', '_cell', '_neighbors', '_cell_offset', '_atom_mask', '_neighbor_mask']\n",
      "Truth: -11444.977\n",
      "Prediction: -11444.966\n"
     ]
    }
   ],
   "source": [
    "converter = spk.data.AtomsConverter(device=device)\n",
    "at, props = test.get_properties(idx=153)\n",
    "\n",
    "inputs = converter(at)\n",
    "print('Keys:', list(inputs.keys()))\n",
    "print('Truth:', props[QM9.U0].cpu().numpy()[0])\n",
    "\n",
    "pred = model(inputs)\n",
    "\n",
    "print('Prediction:', pred[QM9.U0].detach().cpu().numpy()[0,0])"
   ]
  },
  {
   "cell_type": "markdown",
   "metadata": {},
   "source": [
    "Alternatively, one can use the `SpkCalculator` as an interface to ASE:"
   ]
  },
  {
   "cell_type": "code",
   "execution_count": 16,
   "metadata": {},
   "outputs": [
    {
     "name": "stdout",
     "output_type": "stream",
     "text": [
      "Prediction: [-11444.966]\n"
     ]
    }
   ],
   "source": [
    "calculator = spk.interfaces.SpkCalculator(model=model, device=device, energy=QM9.U0)\n",
    "at.set_calculator(calculator)\n",
    "print('Prediction:', at.get_total_energy())"
   ]
  },
  {
   "cell_type": "markdown",
   "metadata": {},
   "source": [
    "## Summary\n",
    "In this tutorial, we have trained and evaluated a SchNet model on a small subset of QM9.\n",
    "A full trainig script with is available [here](../../src/examples/qm9_tutorial.py).\n",
    "\n",
    "In the next tutorial, we will show how to learn potential energy surfaces and forces field as well as performing molecular dynamics simulations with SchNetPack (***coming soon!***)."
   ]
  }
 ],
 "metadata": {
  "kernelspec": {
   "display_name": "Python 3",
   "language": "python",
   "name": "python3"
  },
  "language_info": {
   "codemirror_mode": {
    "name": "ipython",
    "version": 3
   },
   "file_extension": ".py",
   "mimetype": "text/x-python",
   "name": "python",
   "nbconvert_exporter": "python",
   "pygments_lexer": "ipython3",
   "version": "3.7.1"
  },
  "nbsphinx": {
   "execute": "never"
  }
 },
 "nbformat": 4,
 "nbformat_minor": 2
}
